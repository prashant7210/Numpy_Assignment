{
  "nbformat": 4,
  "nbformat_minor": 0,
  "metadata": {
    "colab": {
      "provenance": []
    },
    "kernelspec": {
      "name": "python3",
      "display_name": "Python 3"
    },
    "language_info": {
      "name": "python"
    }
  },
  "cells": [
    {
      "cell_type": "code",
      "execution_count": 1,
      "metadata": {
        "id": "LAWilB6ywpyB"
      },
      "outputs": [],
      "source": [
        "import numpy as np"
      ]
    },
    {
      "cell_type": "markdown",
      "source": [
        "### 1. Create a 3x3 NumPy array with random integers between 1 and 100. Then, interchange its rows and columns."
      ],
      "metadata": {
        "id": "ox9hjolVGkLx"
      }
    },
    {
      "cell_type": "code",
      "source": [
        "arr = np.random.randint(1, 101, size = (3, 3))\n",
        "arr = arr.T\n",
        "print(arr)"
      ],
      "metadata": {
        "colab": {
          "base_uri": "https://localhost:8080/"
        },
        "id": "LNKxbJkK-i_f",
        "outputId": "4ec1e40b-efb1-47ab-99d2-522244e5ccef"
      },
      "execution_count": 2,
      "outputs": [
        {
          "output_type": "stream",
          "name": "stdout",
          "text": [
            "[[49 80  4]\n",
            " [76 41 38]\n",
            " [25 72 17]]\n"
          ]
        }
      ]
    },
    {
      "cell_type": "markdown",
      "source": [
        "### 2. Generate a 1D NumPy array with 10 elements. Reshape it into a 2x5 array, then into a 5x2 array"
      ],
      "metadata": {
        "id": "YQ08BXyrGotg"
      }
    },
    {
      "cell_type": "code",
      "source": [
        "arr = np.random.randint(1, 101, size=10)\n",
        "arr1 = arr.reshape(2, 5)\n",
        "arr2 = arr.reshape(5, 2)\n",
        "print(arr1)\n",
        "print()\n",
        "print(arr2)"
      ],
      "metadata": {
        "colab": {
          "base_uri": "https://localhost:8080/"
        },
        "id": "xdnnWweP-80D",
        "outputId": "3473be3c-c6b0-4e76-d59f-809721dbe598"
      },
      "execution_count": 3,
      "outputs": [
        {
          "output_type": "stream",
          "name": "stdout",
          "text": [
            "[[95 23 54 89  5]\n",
            " [28 18 70 87 74]]\n",
            "\n",
            "[[95 23]\n",
            " [54 89]\n",
            " [ 5 28]\n",
            " [18 70]\n",
            " [87 74]]\n"
          ]
        }
      ]
    },
    {
      "cell_type": "markdown",
      "source": [
        "### 3. Create a 4x4 NumPy array with random float values. Add a border of zeros around it, resulting in a 6x6 array."
      ],
      "metadata": {
        "id": "KNpHXHrGG86G"
      }
    },
    {
      "cell_type": "code",
      "source": [
        "random_array = np.random.rand(4, 4)\n",
        "\n",
        "padded_array = np.pad(random_array, pad_width=1, mode='constant', constant_values=0)\n",
        "\n",
        "print(\"Original 4x4 array with random float values:\\n\", random_array)\n",
        "print(\"\\n6x6 array with a border of zeros:\\n\", padded_array)\n"
      ],
      "metadata": {
        "colab": {
          "base_uri": "https://localhost:8080/"
        },
        "id": "_4cp6cLf_g_8",
        "outputId": "b9e46166-3b3a-4c87-9b78-31eda50055de"
      },
      "execution_count": 4,
      "outputs": [
        {
          "output_type": "stream",
          "name": "stdout",
          "text": [
            "Original 4x4 array with random float values:\n",
            " [[0.40705143 0.18661917 0.49782437 0.41995923]\n",
            " [0.66462858 0.19679427 0.53068653 0.52387227]\n",
            " [0.15458642 0.93344781 0.25605821 0.42162907]\n",
            " [0.7885353  0.08133249 0.43683582 0.02399359]]\n",
            "\n",
            "6x6 array with a border of zeros:\n",
            " [[0.         0.         0.         0.         0.         0.        ]\n",
            " [0.         0.40705143 0.18661917 0.49782437 0.41995923 0.        ]\n",
            " [0.         0.66462858 0.19679427 0.53068653 0.52387227 0.        ]\n",
            " [0.         0.15458642 0.93344781 0.25605821 0.42162907 0.        ]\n",
            " [0.         0.7885353  0.08133249 0.43683582 0.02399359 0.        ]\n",
            " [0.         0.         0.         0.         0.         0.        ]]\n"
          ]
        }
      ]
    },
    {
      "cell_type": "markdown",
      "source": [
        "### 4. Using NumPy, create an array of integers from 10 to 60 with a step of 5."
      ],
      "metadata": {
        "id": "LFnitZ_IHCXX"
      }
    },
    {
      "cell_type": "code",
      "source": [
        "arr = np.arange(10, 61, 5)\n",
        "print(arr)"
      ],
      "metadata": {
        "colab": {
          "base_uri": "https://localhost:8080/"
        },
        "id": "SuqZGyvrAi9k",
        "outputId": "e2f2bc4e-d886-474f-e697-ae2cb3ab0021"
      },
      "execution_count": 5,
      "outputs": [
        {
          "output_type": "stream",
          "name": "stdout",
          "text": [
            "[10 15 20 25 30 35 40 45 50 55 60]\n"
          ]
        }
      ]
    },
    {
      "cell_type": "markdown",
      "source": [
        "### 5. Create a NumPy array of strings ['python', 'numpy', 'pandas']. Apply different case transformations (uppercase, lowercase, title case, etc.) to each element."
      ],
      "metadata": {
        "id": "fF7Us5xbHLvQ"
      }
    },
    {
      "cell_type": "code",
      "source": [
        "arr = np.array(['python', 'numpy', 'pandas'])\n",
        "\n",
        "uppercase_arr = np.char.upper(arr)\n",
        "lowercase_arr = np.char.lower(arr)\n",
        "titlecase_arr = np.char.title(arr)\n",
        "capitalize_arr = np.char.capitalize(arr)\n",
        "swapcase_arr = np.char.swapcase(arr)\n",
        "\n",
        "print(\"Original array:\", arr)\n",
        "print(\"Uppercase:\", uppercase_arr)\n",
        "print(\"Lowercase:\", lowercase_arr)\n",
        "print(\"Title case:\", titlecase_arr)\n",
        "print(\"Capitalize:\", capitalize_arr)\n",
        "print(\"Swap case:\", swapcase_arr)"
      ],
      "metadata": {
        "colab": {
          "base_uri": "https://localhost:8080/"
        },
        "id": "3DuW6nJaBAJi",
        "outputId": "3f62d5c1-2e7e-47c1-843d-dfe4f3705960"
      },
      "execution_count": 6,
      "outputs": [
        {
          "output_type": "stream",
          "name": "stdout",
          "text": [
            "Original array: ['python' 'numpy' 'pandas']\n",
            "Uppercase: ['PYTHON' 'NUMPY' 'PANDAS']\n",
            "Lowercase: ['python' 'numpy' 'pandas']\n",
            "Title case: ['Python' 'Numpy' 'Pandas']\n",
            "Capitalize: ['Python' 'Numpy' 'Pandas']\n",
            "Swap case: ['PYTHON' 'NUMPY' 'PANDAS']\n"
          ]
        }
      ]
    },
    {
      "cell_type": "markdown",
      "source": [
        "### 6. Generate a NumPy array of words. Insert a space between each character of every word in the array."
      ],
      "metadata": {
        "id": "YJxfZ-JDHS0a"
      }
    },
    {
      "cell_type": "code",
      "source": [
        "words = np.array(['python', 'numpy', 'pandas'])\n",
        "\n",
        "vectorized_insert_spaces = np.vectorize(lambda word: ' '.join(word))\n",
        "\n",
        "spaced_words = vectorized_insert_spaces(words)\n",
        "\n",
        "print(\"Original array:\", words)\n",
        "print(\"Array with spaces between characters:\", spaced_words)"
      ],
      "metadata": {
        "colab": {
          "base_uri": "https://localhost:8080/"
        },
        "id": "KZtVbyF8Bi5q",
        "outputId": "4bbf1d6c-8c9d-4bca-8382-16e1589926ba"
      },
      "execution_count": 7,
      "outputs": [
        {
          "output_type": "stream",
          "name": "stdout",
          "text": [
            "Original array: ['python' 'numpy' 'pandas']\n",
            "Array with spaces between characters: ['p y t h o n' 'n u m p y' 'p a n d a s']\n"
          ]
        }
      ]
    },
    {
      "cell_type": "markdown",
      "source": [
        "### 7. Create two 2D NumPy arrays and perform element-wise addition, subtraction, multiplication, and division."
      ],
      "metadata": {
        "id": "z2s_5e7IHXx6"
      }
    },
    {
      "cell_type": "code",
      "source": [
        "array1 = np.array([[1, 2, 3], [4, 5, 6]])\n",
        "array2 = np.array([[7, 8, 9], [10, 11, 12]])\n",
        "\n",
        "addition = array1 + array2\n",
        "subtraction = array1 - array2\n",
        "multiplication = array1 * array2\n",
        "division = array1 / array2\n",
        "\n",
        "print(\"Array 1:\")\n",
        "print(array1)\n",
        "print(\"\\nArray 2:\")\n",
        "print(array2)\n",
        "\n",
        "print(\"\\nElement-wise addition:\")\n",
        "print(addition)\n",
        "print(\"\\nElement-wise subtraction:\")\n",
        "print(subtraction)\n",
        "print(\"\\nElement-wise multiplication:\")\n",
        "print(multiplication)\n",
        "print(\"\\nElement-wise division:\")\n",
        "print(division)"
      ],
      "metadata": {
        "colab": {
          "base_uri": "https://localhost:8080/"
        },
        "id": "8TeQufEtDGCu",
        "outputId": "0bfa8fb9-e41f-4833-c1fa-fbbf5bf3eda4"
      },
      "execution_count": 8,
      "outputs": [
        {
          "output_type": "stream",
          "name": "stdout",
          "text": [
            "Array 1:\n",
            "[[1 2 3]\n",
            " [4 5 6]]\n",
            "\n",
            "Array 2:\n",
            "[[ 7  8  9]\n",
            " [10 11 12]]\n",
            "\n",
            "Element-wise addition:\n",
            "[[ 8 10 12]\n",
            " [14 16 18]]\n",
            "\n",
            "Element-wise subtraction:\n",
            "[[-6 -6 -6]\n",
            " [-6 -6 -6]]\n",
            "\n",
            "Element-wise multiplication:\n",
            "[[ 7 16 27]\n",
            " [40 55 72]]\n",
            "\n",
            "Element-wise division:\n",
            "[[0.14285714 0.25       0.33333333]\n",
            " [0.4        0.45454545 0.5       ]]\n"
          ]
        }
      ]
    },
    {
      "cell_type": "markdown",
      "source": [
        "### 8. Use NumPy to create a 5x5 identity matrix, then extract its diagonal elements."
      ],
      "metadata": {
        "id": "IXYaP0OSHbrq"
      }
    },
    {
      "cell_type": "code",
      "source": [
        "identity_matrix = np.eye(5, dtype=int)\n",
        "\n",
        "diagonal_elements = np.diag(identity_matrix)\n",
        "\n",
        "print(\"5x5 Identity Matrix:\")\n",
        "print(identity_matrix)\n",
        "print(\"\\nDiagonal Elements:\")\n",
        "print(diagonal_elements)"
      ],
      "metadata": {
        "colab": {
          "base_uri": "https://localhost:8080/"
        },
        "id": "oG5MelyfEaOJ",
        "outputId": "89fec312-b916-443f-cf5a-fdeb36622128"
      },
      "execution_count": 9,
      "outputs": [
        {
          "output_type": "stream",
          "name": "stdout",
          "text": [
            "5x5 Identity Matrix:\n",
            "[[1 0 0 0 0]\n",
            " [0 1 0 0 0]\n",
            " [0 0 1 0 0]\n",
            " [0 0 0 1 0]\n",
            " [0 0 0 0 1]]\n",
            "\n",
            "Diagonal Elements:\n",
            "[1 1 1 1 1]\n"
          ]
        }
      ]
    },
    {
      "cell_type": "markdown",
      "source": [
        "### 9. Generate a NumPy array of 100 random integers between 0 and 1000. Find and display all prime numbers in this array."
      ],
      "metadata": {
        "id": "EXxOLt1oHnEV"
      }
    },
    {
      "cell_type": "code",
      "source": [
        "random_array = np.random.randint(0, 1000, size=100)\n",
        "\n",
        "def is_prime(n):\n",
        "    if n <= 1:\n",
        "        return False\n",
        "    for i in range(2, int(np.sqrt(n)) + 1):\n",
        "        if n % i == 0:\n",
        "            return False\n",
        "    return True\n",
        "\n",
        "prime_numbers = np.array([num for num in random_array if is_prime(num)])\n",
        "\n",
        "print(\"Random array of 100 integers between 0 and 1000:\")\n",
        "print(random_array)\n",
        "print(\"\\nPrime numbers in the array:\")\n",
        "print(prime_numbers)\n"
      ],
      "metadata": {
        "colab": {
          "base_uri": "https://localhost:8080/"
        },
        "id": "FqUC89bpFFHV",
        "outputId": "3fa94bac-4e74-4296-c6e7-9be00af53170"
      },
      "execution_count": 10,
      "outputs": [
        {
          "output_type": "stream",
          "name": "stdout",
          "text": [
            "Random array of 100 integers between 0 and 1000:\n",
            "[855 713 230 239 427 192 807 125 793 663 452 726 840 665 268 246 568 707\n",
            " 542 288 536 773 311 582 680  86 394 136 881 240 558 140 280  98 791 458\n",
            " 141 310 520 397 975 509 502 649 781  99 574 717 902 625 299 887  11 246\n",
            " 321 694 302 498 549 778 913 345 694 167 133   8 987 440   2 390 792 736\n",
            " 442 938 735 774 714   7 915 914 952 289 164 318 139 377  46 908 767  88\n",
            "  22 247 636 995 393 446  31 304 328  25]\n",
            "\n",
            "Prime numbers in the array:\n",
            "[239 773 311 881 397 509 887  11 167   2   7 139  31]\n"
          ]
        }
      ]
    },
    {
      "cell_type": "markdown",
      "source": [
        "### 10. Create a NumPy array representing daily temperatures for a month. Calculate and display the weekly averages."
      ],
      "metadata": {
        "id": "cHWuel8THs5-"
      }
    },
    {
      "source": [
        "#Assuming temperature is between 20 to 34\n",
        "daily_temperatures = np.random.randint(20, 35, size=30)\n",
        "\n",
        "num_weeks = len(daily_temperatures) // 7\n",
        "\n",
        "weekly_temperatures = daily_temperatures[:num_weeks*7].reshape(num_weeks, 7)\n",
        "weekly_averages = np.mean(weekly_temperatures, axis=1)\n",
        "\n",
        "print(\"Daily temperatures for the month:\")\n",
        "print(daily_temperatures)\n",
        "print(\"\\nWeekly temperatures (7 days per week):\")\n",
        "print(weekly_temperatures)\n",
        "print(\"\\nWeekly averages:\")\n",
        "print(weekly_averages)\n",
        "\n",
        "remaining_days = daily_temperatures[num_weeks*7:]\n",
        "if remaining_days.size > 0:\n",
        "    print(\"\\nTemperatures for remaining days:\")\n",
        "    print(remaining_days)"
      ],
      "cell_type": "code",
      "metadata": {
        "colab": {
          "base_uri": "https://localhost:8080/"
        },
        "id": "0hOB7oVdIcEo",
        "outputId": "6b0463bd-dc47-4e84-c9dc-0d0746d86692"
      },
      "execution_count": 11,
      "outputs": [
        {
          "output_type": "stream",
          "name": "stdout",
          "text": [
            "Daily temperatures for the month:\n",
            "[22 22 29 30 32 30 21 26 23 30 30 31 32 30 28 26 20 20 25 21 26 33 24 28\n",
            " 24 20 22 30 27 22]\n",
            "\n",
            "Weekly temperatures (7 days per week):\n",
            "[[22 22 29 30 32 30 21]\n",
            " [26 23 30 30 31 32 30]\n",
            " [28 26 20 20 25 21 26]\n",
            " [33 24 28 24 20 22 30]]\n",
            "\n",
            "Weekly averages:\n",
            "[26.57142857 28.85714286 23.71428571 25.85714286]\n",
            "\n",
            "Temperatures for remaining days:\n",
            "[27 22]\n"
          ]
        }
      ]
    }
  ]
}